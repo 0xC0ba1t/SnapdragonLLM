{
 "cells": [
  {
   "cell_type": "code",
   "execution_count": 1,
   "metadata": {
    "colab": {
     "base_uri": "https://localhost:8080/"
    },
    "id": "ndysycC6J_1_",
    "outputId": "ef708e12-3cfc-4f68-a575-969587f03626"
   },
   "outputs": [
    {
     "name": "stdout",
     "output_type": "stream",
     "text": [
      "Requirement already satisfied: matplotlib in /system/conda/miniconda3/envs/cloudspace/lib/python3.10/site-packages (3.8.2)\n",
      "Requirement already satisfied: numpy in /system/conda/miniconda3/envs/cloudspace/lib/python3.10/site-packages (1.26.4)\n",
      "Requirement already satisfied: pylzma in /system/conda/miniconda3/envs/cloudspace/lib/python3.10/site-packages (0.5.0)\n",
      "Requirement already satisfied: ipykernel in /system/conda/miniconda3/envs/cloudspace/lib/python3.10/site-packages (6.26.0)\n",
      "Requirement already satisfied: contourpy>=1.0.1 in /system/conda/miniconda3/envs/cloudspace/lib/python3.10/site-packages (from matplotlib) (1.3.0)\n",
      "Requirement already satisfied: cycler>=0.10 in /system/conda/miniconda3/envs/cloudspace/lib/python3.10/site-packages (from matplotlib) (0.12.1)\n",
      "Requirement already satisfied: fonttools>=4.22.0 in /system/conda/miniconda3/envs/cloudspace/lib/python3.10/site-packages (from matplotlib) (4.53.1)\n",
      "Requirement already satisfied: kiwisolver>=1.3.1 in /system/conda/miniconda3/envs/cloudspace/lib/python3.10/site-packages (from matplotlib) (1.4.7)\n",
      "Requirement already satisfied: packaging>=20.0 in /system/conda/miniconda3/envs/cloudspace/lib/python3.10/site-packages (from matplotlib) (24.1)\n",
      "Requirement already satisfied: pillow>=8 in /system/conda/miniconda3/envs/cloudspace/lib/python3.10/site-packages (from matplotlib) (10.4.0)\n",
      "Requirement already satisfied: pyparsing>=2.3.1 in /system/conda/miniconda3/envs/cloudspace/lib/python3.10/site-packages (from matplotlib) (3.1.4)\n",
      "Requirement already satisfied: python-dateutil>=2.7 in /system/conda/miniconda3/envs/cloudspace/lib/python3.10/site-packages (from matplotlib) (2.9.0.post0)\n",
      "Requirement already satisfied: comm>=0.1.1 in /system/conda/miniconda3/envs/cloudspace/lib/python3.10/site-packages (from ipykernel) (0.2.2)\n",
      "Requirement already satisfied: debugpy>=1.6.5 in /system/conda/miniconda3/envs/cloudspace/lib/python3.10/site-packages (from ipykernel) (1.8.5)\n",
      "Requirement already satisfied: ipython>=7.23.1 in /system/conda/miniconda3/envs/cloudspace/lib/python3.10/site-packages (from ipykernel) (8.17.2)\n",
      "Requirement already satisfied: jupyter-client>=6.1.12 in /system/conda/miniconda3/envs/cloudspace/lib/python3.10/site-packages (from ipykernel) (8.6.2)\n",
      "Requirement already satisfied: jupyter-core!=5.0.*,>=4.12 in /system/conda/miniconda3/envs/cloudspace/lib/python3.10/site-packages (from ipykernel) (5.7.2)\n",
      "Requirement already satisfied: matplotlib-inline>=0.1 in /system/conda/miniconda3/envs/cloudspace/lib/python3.10/site-packages (from ipykernel) (0.1.7)\n",
      "Requirement already satisfied: nest-asyncio in /system/conda/miniconda3/envs/cloudspace/lib/python3.10/site-packages (from ipykernel) (1.6.0)\n",
      "Requirement already satisfied: psutil in /system/conda/miniconda3/envs/cloudspace/lib/python3.10/site-packages (from ipykernel) (6.0.0)\n",
      "Requirement already satisfied: pyzmq>=20 in /system/conda/miniconda3/envs/cloudspace/lib/python3.10/site-packages (from ipykernel) (26.2.0)\n",
      "Requirement already satisfied: tornado>=6.1 in /system/conda/miniconda3/envs/cloudspace/lib/python3.10/site-packages (from ipykernel) (6.4.1)\n",
      "Requirement already satisfied: traitlets>=5.4.0 in /system/conda/miniconda3/envs/cloudspace/lib/python3.10/site-packages (from ipykernel) (5.14.3)\n",
      "Requirement already satisfied: decorator in /system/conda/miniconda3/envs/cloudspace/lib/python3.10/site-packages (from ipython>=7.23.1->ipykernel) (5.1.1)\n",
      "Requirement already satisfied: jedi>=0.16 in /system/conda/miniconda3/envs/cloudspace/lib/python3.10/site-packages (from ipython>=7.23.1->ipykernel) (0.19.1)\n",
      "Requirement already satisfied: prompt-toolkit!=3.0.37,<3.1.0,>=3.0.30 in /system/conda/miniconda3/envs/cloudspace/lib/python3.10/site-packages (from ipython>=7.23.1->ipykernel) (3.0.47)\n",
      "Requirement already satisfied: pygments>=2.4.0 in /system/conda/miniconda3/envs/cloudspace/lib/python3.10/site-packages (from ipython>=7.23.1->ipykernel) (2.18.0)\n",
      "Requirement already satisfied: stack-data in /system/conda/miniconda3/envs/cloudspace/lib/python3.10/site-packages (from ipython>=7.23.1->ipykernel) (0.6.3)\n",
      "Requirement already satisfied: exceptiongroup in /system/conda/miniconda3/envs/cloudspace/lib/python3.10/site-packages (from ipython>=7.23.1->ipykernel) (1.2.2)\n",
      "Requirement already satisfied: pexpect>4.3 in /system/conda/miniconda3/envs/cloudspace/lib/python3.10/site-packages (from ipython>=7.23.1->ipykernel) (4.9.0)\n",
      "Requirement already satisfied: platformdirs>=2.5 in /system/conda/miniconda3/envs/cloudspace/lib/python3.10/site-packages (from jupyter-core!=5.0.*,>=4.12->ipykernel) (4.3.2)\n",
      "Requirement already satisfied: six>=1.5 in /system/conda/miniconda3/envs/cloudspace/lib/python3.10/site-packages (from python-dateutil>=2.7->matplotlib) (1.16.0)\n",
      "Requirement already satisfied: parso<0.9.0,>=0.8.3 in /system/conda/miniconda3/envs/cloudspace/lib/python3.10/site-packages (from jedi>=0.16->ipython>=7.23.1->ipykernel) (0.8.4)\n",
      "Requirement already satisfied: ptyprocess>=0.5 in /system/conda/miniconda3/envs/cloudspace/lib/python3.10/site-packages (from pexpect>4.3->ipython>=7.23.1->ipykernel) (0.7.0)\n",
      "Requirement already satisfied: wcwidth in /system/conda/miniconda3/envs/cloudspace/lib/python3.10/site-packages (from prompt-toolkit!=3.0.37,<3.1.0,>=3.0.30->ipython>=7.23.1->ipykernel) (0.2.13)\n",
      "Requirement already satisfied: executing>=1.2.0 in /system/conda/miniconda3/envs/cloudspace/lib/python3.10/site-packages (from stack-data->ipython>=7.23.1->ipykernel) (2.1.0)\n",
      "Requirement already satisfied: asttokens>=2.1.0 in /system/conda/miniconda3/envs/cloudspace/lib/python3.10/site-packages (from stack-data->ipython>=7.23.1->ipykernel) (2.4.1)\n",
      "Requirement already satisfied: pure-eval in /system/conda/miniconda3/envs/cloudspace/lib/python3.10/site-packages (from stack-data->ipython>=7.23.1->ipykernel) (0.2.3)\n"
     ]
    }
   ],
   "source": [
    "!pip3 install matplotlib numpy pylzma ipykernel"
   ]
  },
  {
   "cell_type": "markdown",
   "metadata": {
    "id": "8abZ5V1CMsNw"
   },
   "source": [
    "******************START OF CODE******************"
   ]
  },
  {
   "cell_type": "markdown",
   "metadata": {
    "id": "qrbAMTIHNMBp"
   },
   "source": [
    "Bigram model and playing around ::"
   ]
  },
  {
   "cell_type": "code",
   "execution_count": 2,
   "metadata": {
    "id": "bI2IcpImQIXj"
   },
   "outputs": [],
   "source": [
    "import torch\n",
    "import torch.nn as nn\n",
    "from torch.nn import functional as F\n",
    "device = 'cuda' if torch.cuda.is_available() else 'cpu'\n",
    "#print(device)\n",
    "\n",
    "block_size = 8\n",
    "batch_size = 4\n",
    "max_iters = 1000\n",
    "learning_rate = 3e-4\n",
    "eval_iters = 250\n",
    "# dropout = 0.2"
   ]
  },
  {
   "cell_type": "code",
   "execution_count": 3,
   "metadata": {
    "colab": {
     "base_uri": "https://localhost:8080/"
    },
    "id": "NaSNmRGWK5b_",
    "outputId": "886491fc-7b64-44fd-9fc5-edd20397ea97"
   },
   "outputs": [
    {
     "name": "stdout",
     "output_type": "stream",
     "text": [
      "['\\n', ' ', '!', '\"', '&', \"'\", '(', ')', ',', '-', '.', '0', '1', '2', '3', '4', '5', '6', '7', '8', '9', ':', ';', '?', 'A', 'B', 'C', 'D', 'E', 'F', 'G', 'H', 'I', 'J', 'K', 'L', 'M', 'N', 'O', 'P', 'Q', 'R', 'S', 'T', 'U', 'V', 'W', 'X', 'Y', 'Z', '[', ']', '_', 'a', 'b', 'c', 'd', 'e', 'f', 'g', 'h', 'i', 'j', 'k', 'l', 'm', 'n', 'o', 'p', 'q', 'r', 's', 't', 'u', 'v', 'w', 'x', 'y', 'z', '\\ufeff']\n"
     ]
    }
   ],
   "source": [
    "with open(\"wizard of oz for llm.txt\", 'r', encoding='utf-8') as f: #open smaple training data file as read with utf 8 encoding\n",
    "  text = f.read()\n",
    "chars = sorted(set(text)) #creates a sorted list of all used characters\n",
    "print(chars)\n",
    "vocabulary_size = len(chars)"
   ]
  },
  {
   "cell_type": "code",
   "execution_count": 4,
   "metadata": {
    "colab": {
     "base_uri": "https://localhost:8080/"
    },
    "id": "CUiU5EUxODq4",
    "outputId": "6d5f11c0-fe05-4241-bfe0-99873e8551f5"
   },
   "outputs": [
    {
     "name": "stdout",
     "output_type": "stream",
     "text": [
      "tensor([79, 32, 72,  5, 71,  1, 66, 67,  1, 73, 71, 57, 22,  1, 66, 67,  1, 73,\n",
      "        71, 57,  1, 53, 72,  1, 53, 64, 64, 10,  1, 43, 60, 57,  1, 55, 60, 61,\n",
      "        64, 56, 70, 57, 66,  1, 75, 67, 66,  5, 72,  1, 64, 57, 72,  1, 65, 57,\n",
      "         1, 71, 72, 67, 68,  1, 72, 57, 64, 64, 61, 66, 59,  1, 72, 53, 64, 57,\n",
      "        71,  0, 67, 58,  1, 72, 60, 57,  1, 35, 53, 66, 56,  1, 67, 58,  1, 38,\n",
      "        78, 10,  1, 32,  1, 63, 66, 67, 75,  1])\n"
     ]
    }
   ],
   "source": [
    "string_to_int = { ch:i for i,ch in enumerate(chars) } #mappings for str to int and vice versa\n",
    "int_to_string = { i:ch for i,ch in enumerate(chars) } # above\n",
    "encode = lambda s: [string_to_int[c] for c in s] #encoder\n",
    "decode = lambda l: ''.join([int_to_string[i] for i in l]) #decoder\n",
    "\n",
    "#example NOT actual code, comment out when not testing/demo-ing =>\n",
    "\n",
    "'''encoded_hello = encode('hello') #encode string 'hello' to integars\n",
    "decoded_hello = decode(encoded_hello)\n",
    "print(encoded_hello)\n",
    "print(decoded_hello)'''\n",
    "\n",
    "data = torch.tensor(encode(text), dtype=torch.long)\n",
    "print(data[:100])"
   ]
  },
  {
   "cell_type": "code",
   "execution_count": 5,
   "metadata": {
    "colab": {
     "base_uri": "https://localhost:8080/"
    },
    "id": "8dXmGyahSL2T",
    "outputId": "6f9082e7-f602-4577-b5b4-3c6469dcfc24"
   },
   "outputs": [
    {
     "name": "stdout",
     "output_type": "stream",
     "text": [
      "inputs: \n",
      "tensor([[72, 60, 67, 71, 57,  1, 68, 70],\n",
      "        [ 1, 75, 53, 71,  1, 61, 66,  1],\n",
      "        [77, 10,  1,  3, 27, 67,  1, 66],\n",
      "        [ 1, 72, 75, 67,  1, 68, 53, 72]])\n",
      "targets: \n",
      "tensor([[60, 67, 71, 57,  1, 68, 70, 57],\n",
      "        [75, 53, 71,  1, 61, 66,  1, 70],\n",
      "        [10,  1,  3, 27, 67,  1, 66, 67],\n",
      "        [72, 75, 67,  1, 68, 53, 72, 60]])\n"
     ]
    }
   ],
   "source": [
    "n = int(0.8*len(data))\n",
    "train_data = data[:n]\n",
    "val_data = data[n:]\n",
    "\n",
    "def get_batch(split):\n",
    "  data = train_data if split == 'train' else val_data\n",
    "  ix = torch.randint(len(data) - block_size, (batch_size,))\n",
    "  # print(ix)\n",
    "  x = torch.stack([data[i:i+block_size] for i in ix])\n",
    "  y = torch.stack([data[i+1:i+block_size+1] for i in ix])\n",
    "  x, y = x.to(device), y.to(device)\n",
    "  return x, y\n",
    "\n",
    "x, y = get_batch('train')\n",
    "print('inputs: ')\n",
    "# print(x.shape)\n",
    "print(x)\n",
    "print('targets: ')\n",
    "print(y)"
   ]
  },
  {
   "cell_type": "code",
   "execution_count": 6,
   "metadata": {},
   "outputs": [],
   "source": [
    "@torch.no_grad()\n",
    "def estimate_loss():\n",
    "    out = {}\n",
    "    model.eval()\n",
    "    for split in ['train', 'val']:\n",
    "        losses = torch.zeros(eval_iters)\n",
    "        for k in range(eval_iters):\n",
    "            X, Y = get_batch(split)\n",
    "            logits, loss = model(X, Y)\n",
    "            losses[k] = loss.item()\n",
    "        out[split] = losses.mean()\n",
    "    model.train()\n",
    "    return out"
   ]
  },
  {
   "cell_type": "code",
   "execution_count": 7,
   "metadata": {
    "colab": {
     "base_uri": "https://localhost:8080/"
    },
    "id": "dprOILpdiMqj",
    "outputId": "01ccc69d-4fd4-4083-cdad-99f945b797b8"
   },
   "outputs": [
    {
     "name": "stdout",
     "output_type": "stream",
     "text": [
      "\n",
      ":Ul]Gw T0[?1N.Q'o]rrM)S8jIx(M_CKNzv:ch6\"co[bI-t9C,Kj(6f8]LA8kl?zO&_45E5nuW7KYp,PCQpH﻿k(WDn3F(F2?R_; zl'Ny ZRYt_Dg&?'?-vQGypNs;?1A\n",
      "_WET\n",
      "9fFiV8riv7xK\"Zs6(E?zKOXnM.9NA\"D2KP2K6AMrco;;;Cz?jwgHMaO)xwM45H'E\"2q﻿kQho;8k62fsvhWBv!LcWms(h?-ggoaOM3weU6\"u46\"1NTH6CkHmNRL&,P?LZq8r6zrhp,GU\"1zl p1rb490_96J:)6p299]lIeg\n",
      "bpZeMXi;8&WVqfYVFVmMT&1r0Z.ZSi9TyuF3\n",
      "? pTEv OL8&6\n",
      "\"y﻿Bu:_B!uVQ,uFkSS-i69jnGhdv!b]49,IEVI\n",
      "ca.[y&y2ywghiv50DJ?YuE?)61-y8rw]fPqqH?VFdit!B.RbSvCK:tDoSmKHOT:k_9J'9aj\n",
      "gKi.xrU;?smH 50ujy'&?bYAr)pcMsm]L0Z8\n"
     ]
    }
   ],
   "source": [
    "class BigramLanguageModel(nn.Module):\n",
    "  def __init__(self, vocabulary_size):\n",
    "    super().__init__()\n",
    "    self.token_embedding_table = nn.Embedding(vocabulary_size, vocabulary_size)\n",
    "\n",
    "  def forward(self, index, targets=None):\n",
    "    logits = self.token_embedding_table(index)\n",
    "\n",
    "    if targets is None:\n",
    "      loss = None\n",
    "    else:\n",
    "      B, T, C = logits.shape\n",
    "      logits = logits.view(B*T, C)\n",
    "      targets = targets.view(B*T)\n",
    "      loss = F.cross_entropy(logits, targets)\n",
    "\n",
    "    return logits, loss\n",
    "\n",
    "  def generate(self, index, max_new_tokens):\n",
    "    # index is (B,T) array of indices in the current context\n",
    "    for _ in range(max_new_tokens):\n",
    "      # get the predictions\n",
    "      logits, loss = self.forward(index)\n",
    "      # focus only on the last time step\n",
    "      logits = logits[:, -1, :] # becomes (B, C)\n",
    "      # apply softmax to get probabilities\n",
    "      probs = F.softmax(logits, dim=-1) # (B, C)\n",
    "      # sample from the distribution\n",
    "      index_next = torch.multinomial(probs, num_samples=1) # (B, 1)\n",
    "      # append sampled index to the running sequence\n",
    "      index = torch.cat((index, index_next), dim=1) # (B, T+1)\n",
    "    return index\n",
    "\n",
    "model = BigramLanguageModel(vocabulary_size)\n",
    "m = model.to(device)\n",
    "\n",
    "context = torch.zeros((1,1), dtype=torch.long, device=device)\n",
    "generated_chars = decode(m.generate(context, max_new_tokens=500)[0].tolist())\n",
    "print(generated_chars)"
   ]
  },
  {
   "cell_type": "code",
   "execution_count": 26,
   "metadata": {
    "id": "We7295vMndmE"
   },
   "outputs": [
    {
     "name": "stdout",
     "output_type": "stream",
     "text": [
      "step: 0, train loss: 2.6379, val loss: 2.6579\n",
      "step: 250, train loss: 2.5932, val loss: 2.6441\n",
      "step: 500, train loss: 2.6278, val loss: 2.6590\n",
      "step: 750, train loss: 2.5850, val loss: 2.6566\n",
      "2.4833736419677734\n"
     ]
    }
   ],
   "source": [
    "# create a PyTorch optimizer\n",
    "optimizer = torch.optim.AdamW(model.parameters(), lr=learning_rate)\n",
    "\n",
    "for iter in range(max_iters):\n",
    "\n",
    "    if iter % eval_iters == 0:\n",
    "        losses = estimate_loss()\n",
    "        print(f\"step: {iter}, train loss: {losses['train']:.4f}, val loss: {losses['val']:.4f}\")\n",
    "\n",
    "    # sample a batch of data\n",
    "    xb, yb = get_batch('train')\n",
    "\n",
    "    # evaluate the loss\n",
    "    logits, loss = model.forward(xb, yb)\n",
    "    optimizer.zero_grad(set_to_none=True)\n",
    "    loss.backward()\n",
    "    optimizer.step()\n",
    "print(loss.item())"
   ]
  },
  {
   "cell_type": "code",
   "execution_count": 27,
   "metadata": {},
   "outputs": [
    {
     "name": "stdout",
     "output_type": "stream",
     "text": [
      "\n",
      "FKns y7_:-gy lfofothe ald M5[!pant\n",
      "tlarokeYLDJlilopaie gHes t. oicore rde t ant tss fr g\n",
      "\n",
      "M3youitenqn.\"D\n",
      "y)icE0Luede;Q2KWzXind sed\n",
      "ind.jW8z6(24Rme. be fp,  terd tit atap,Y(!-gre;?HOz﻿QE-Jse,L]\n",
      "uim\n",
      "er burlk[She sur hebe ho fBveml NTR;Kkinll s\n",
      "t ad\n",
      "\n",
      "TVS[NTY:\"2qSWsaml;D)BqqUar5btth.D pR\n",
      "g--F)Uwer\n",
      "\n",
      "\n",
      "[VC2h  ure tcalke andrcsk;8'2bDz5p!M6&ksm﻿g-Hdokld It ado'xThs, y beklld\n",
      "cicis, se!M\n",
      ": p  o hend ahine g695Nigg ad  mTets T wagge sups, pfPAey RBYVjinueylite\n",
      "\"A?; se\n",
      "Anth  ofam\n",
      "t ang er v5-sq; Beazad tar\n"
     ]
    }
   ],
   "source": [
    "context = torch.zeros((1,1), dtype=torch.long, device=device)\n",
    "generated_chars = decode(m.generate(context, max_new_tokens=500)[0].tolist())\n",
    "print(generated_chars)"
   ]
  },
  {
   "cell_type": "markdown",
   "metadata": {
    "id": "-V_jWA85ndRU"
   },
   "source": [
    "-"
   ]
  },
  {
   "cell_type": "markdown",
   "metadata": {
    "id": "CxW8PN-1ndEt"
   },
   "source": [
    "-"
   ]
  },
  {
   "cell_type": "markdown",
   "metadata": {
    "id": "s5BF-YTxnc3Z"
   },
   "source": [
    "-"
   ]
  },
  {
   "cell_type": "markdown",
   "metadata": {
    "id": "9Q7q4UvtVEcM"
   },
   "source": [
    "torch-examples / playing about"
   ]
  },
  {
   "cell_type": "code",
   "execution_count": 26,
   "metadata": {
    "id": "BpSjqju-VDux"
   },
   "outputs": [],
   "source": [
    "import torch"
   ]
  },
  {
   "cell_type": "code",
   "execution_count": 27,
   "metadata": {
    "colab": {
     "base_uri": "https://localhost:8080/"
    },
    "id": "Jyrol33gVIHY",
    "outputId": "78d05b43-28e8-46cb-9688-1dcbf7ee2089"
   },
   "outputs": [
    {
     "data": {
      "text/plain": [
       "tensor([-40,  82,  68,  89, -72, -68])"
      ]
     },
     "execution_count": 27,
     "metadata": {},
     "output_type": "execute_result"
    }
   ],
   "source": [
    "randint = torch.randint(-100, 100, (6,))\n",
    "randint"
   ]
  },
  {
   "cell_type": "markdown",
   "metadata": {
    "id": "WFjSOqW3bNbX"
   },
   "source": [
    "Embedding Vectors"
   ]
  },
  {
   "cell_type": "code",
   "execution_count": 28,
   "metadata": {
    "colab": {
     "base_uri": "https://localhost:8080/"
    },
    "id": "qaRra7BtbQEg",
    "outputId": "0628c491-0829-4418-ccc7-7352f1e52cda"
   },
   "outputs": [
    {
     "name": "stdout",
     "output_type": "stream",
     "text": [
      "torch.Size([4, 100])\n"
     ]
    }
   ],
   "source": [
    "import torch\n",
    "import torch.nn as nn\n",
    "\n",
    "# initialise an embedding layer\n",
    "vocab_size = 1000\n",
    "embedding_dim = 100\n",
    "embedding = nn.Embedding(vocab_size, embedding_dim)\n",
    "\n",
    "# create some input indices\n",
    "input_indices = torch.LongTensor([1, 5, 3, 2])\n",
    "\n",
    "# apply the embedding layer\n",
    "embedded_output = embedding(input_indices)\n",
    "\n",
    "# the output will be a tensor of shape (4, 100), where 4 is the number of inputs\n",
    "# and 100 is the dimensionality of the embedding vectors\n",
    "print(embedded_output.shape)"
   ]
  },
  {
   "cell_type": "code",
   "execution_count": 29,
   "metadata": {
    "colab": {
     "base_uri": "https://localhost:8080/"
    },
    "id": "eWWq-dyfScgh",
    "outputId": "fed8b9a6-bea4-448e-922f-c7d8fe4e3963"
   },
   "outputs": [
    {
     "name": "stdout",
     "output_type": "stream",
     "text": [
      "when input is tensor([79]) target is tensor(32)\n",
      "when input is tensor([79, 32]) target is tensor(72)\n",
      "when input is tensor([79, 32, 72]) target is tensor(5)\n",
      "when input is tensor([79, 32, 72,  5]) target is tensor(71)\n",
      "when input is tensor([79, 32, 72,  5, 71]) target is tensor(1)\n",
      "when input is tensor([79, 32, 72,  5, 71,  1]) target is tensor(66)\n",
      "when input is tensor([79, 32, 72,  5, 71,  1, 66]) target is tensor(67)\n",
      "when input is tensor([79, 32, 72,  5, 71,  1, 66, 67]) target is tensor(1)\n"
     ]
    }
   ],
   "source": [
    "\n",
    "\n",
    "x = train_data[:block_size]\n",
    "y = train_data[1:block_size+1]\n",
    "\n",
    "for t in range(block_size):\n",
    "  context = x[:t+1]\n",
    "  target = y[t]\n",
    "  print('when input is', context, 'target is', target)"
   ]
  }
 ],
 "metadata": {
  "accelerator": "GPU",
  "colab": {
   "authorship_tag": "ABX9TyMKnHH06FNtVVEdSveJGrpR",
   "gpuType": "T4",
   "provenance": []
  },
  "kernelspec": {
   "display_name": "Python 3",
   "language": "python",
   "name": "python3"
  },
  "language_info": {
   "codemirror_mode": {
    "name": "ipython",
    "version": 3
   },
   "file_extension": ".py",
   "mimetype": "text/x-python",
   "name": "python",
   "nbconvert_exporter": "python",
   "pygments_lexer": "ipython3",
   "version": "3.10.10"
  }
 },
 "nbformat": 4,
 "nbformat_minor": 4
}
